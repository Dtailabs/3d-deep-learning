{
 "cells": [
  {
   "cell_type": "markdown",
   "metadata": {},
   "source": [
    "## Imports"
   ]
  },
  {
   "cell_type": "code",
   "execution_count": 1,
   "metadata": {},
   "outputs": [
    {
     "name": "stdout",
     "output_type": "stream",
     "text": [
      "Requirement already satisfied: open3d in /root/anaconda/envs/ai/lib/python3.8/site-packages (0.12.0)\n",
      "Requirement already satisfied: pandas in /root/anaconda/envs/ai/lib/python3.8/site-packages (from open3d) (1.1.5)\n",
      "Requirement already satisfied: addict in /root/anaconda/envs/ai/lib/python3.8/site-packages (from open3d) (2.4.0)\n",
      "Requirement already satisfied: numpy in /root/anaconda/envs/ai/lib/python3.8/site-packages (from open3d) (1.18.5)\n",
      "Requirement already satisfied: notebook in /root/anaconda/envs/ai/lib/python3.8/site-packages (from open3d) (6.2.0)\n",
      "Requirement already satisfied: plyfile in /root/anaconda/envs/ai/lib/python3.8/site-packages (from open3d) (0.7.3)\n",
      "Requirement already satisfied: matplotlib in /root/anaconda/envs/ai/lib/python3.8/site-packages (from open3d) (3.3.2)\n",
      "Requirement already satisfied: sklearn in /root/anaconda/envs/ai/lib/python3.8/site-packages (from open3d) (0.0)\n",
      "Requirement already satisfied: pyyaml in /root/anaconda/envs/ai/lib/python3.8/site-packages (from open3d) (5.4.1)\n",
      "Requirement already satisfied: widgetsnbextension in /root/anaconda/envs/ai/lib/python3.8/site-packages (from open3d) (3.5.1)\n",
      "Requirement already satisfied: tqdm in /root/anaconda/envs/ai/lib/python3.8/site-packages (from open3d) (4.56.0)\n",
      "Requirement already satisfied: ipywidgets in /root/anaconda/envs/ai/lib/python3.8/site-packages (from open3d) (7.6.3)\n",
      "Requirement already satisfied: traitlets>=4.3.1 in /root/anaconda/envs/ai/lib/python3.8/site-packages (from ipywidgets->open3d) (5.0.5)\n",
      "Requirement already satisfied: nbformat>=4.2.0 in /root/anaconda/envs/ai/lib/python3.8/site-packages (from ipywidgets->open3d) (5.1.2)\n",
      "Requirement already satisfied: ipython>=4.0.0 in /root/anaconda/envs/ai/lib/python3.8/site-packages (from ipywidgets->open3d) (7.18.1)\n",
      "Requirement already satisfied: ipykernel>=4.5.1 in /root/anaconda/envs/ai/lib/python3.8/site-packages (from ipywidgets->open3d) (5.4.2)\n",
      "Requirement already satisfied: jupyterlab-widgets>=1.0.0 in /root/anaconda/envs/ai/lib/python3.8/site-packages (from ipywidgets->open3d) (1.0.0)\n",
      "Requirement already satisfied: jupyter-client in /root/anaconda/envs/ai/lib/python3.8/site-packages (from ipykernel>=4.5.1->ipywidgets->open3d) (6.1.11)\n",
      "Requirement already satisfied: tornado>=4.2 in /root/anaconda/envs/ai/lib/python3.8/site-packages (from ipykernel>=4.5.1->ipywidgets->open3d) (6.1)\n",
      "Requirement already satisfied: pickleshare in /root/anaconda/envs/ai/lib/python3.8/site-packages (from ipython>=4.0.0->ipywidgets->open3d) (0.7.5)\n",
      "Requirement already satisfied: pygments in /root/anaconda/envs/ai/lib/python3.8/site-packages (from ipython>=4.0.0->ipywidgets->open3d) (2.7.4)\n",
      "Requirement already satisfied: pexpect>4.3 in /root/anaconda/envs/ai/lib/python3.8/site-packages (from ipython>=4.0.0->ipywidgets->open3d) (4.8.0)\n",
      "Requirement already satisfied: jedi>=0.10 in /root/anaconda/envs/ai/lib/python3.8/site-packages (from ipython>=4.0.0->ipywidgets->open3d) (0.18.0)\n",
      "Requirement already satisfied: backcall in /root/anaconda/envs/ai/lib/python3.8/site-packages (from ipython>=4.0.0->ipywidgets->open3d) (0.2.0)\n",
      "Requirement already satisfied: prompt-toolkit!=3.0.0,!=3.0.1,<3.1.0,>=2.0.0 in /root/anaconda/envs/ai/lib/python3.8/site-packages (from ipython>=4.0.0->ipywidgets->open3d) (3.0.14)\n",
      "Requirement already satisfied: setuptools>=18.5 in /root/anaconda/envs/ai/lib/python3.8/site-packages (from ipython>=4.0.0->ipywidgets->open3d) (49.6.0.post20210108)\n",
      "Requirement already satisfied: decorator in /root/anaconda/envs/ai/lib/python3.8/site-packages (from ipython>=4.0.0->ipywidgets->open3d) (4.4.2)\n",
      "Requirement already satisfied: parso<0.9.0,>=0.8.0 in /root/anaconda/envs/ai/lib/python3.8/site-packages (from jedi>=0.10->ipython>=4.0.0->ipywidgets->open3d) (0.8.1)\n",
      "Requirement already satisfied: ipython-genutils in /root/anaconda/envs/ai/lib/python3.8/site-packages (from nbformat>=4.2.0->ipywidgets->open3d) (0.2.0)\n",
      "Requirement already satisfied: jsonschema!=2.5.0,>=2.4 in /root/anaconda/envs/ai/lib/python3.8/site-packages (from nbformat>=4.2.0->ipywidgets->open3d) (3.2.0)\n",
      "Requirement already satisfied: jupyter-core in /root/anaconda/envs/ai/lib/python3.8/site-packages (from nbformat>=4.2.0->ipywidgets->open3d) (4.7.0)\n",
      "Requirement already satisfied: pyrsistent>=0.14.0 in /root/anaconda/envs/ai/lib/python3.8/site-packages (from jsonschema!=2.5.0,>=2.4->nbformat>=4.2.0->ipywidgets->open3d) (0.17.3)\n",
      "Requirement already satisfied: six>=1.11.0 in /root/anaconda/envs/ai/lib/python3.8/site-packages (from jsonschema!=2.5.0,>=2.4->nbformat>=4.2.0->ipywidgets->open3d) (1.15.0)\n",
      "Requirement already satisfied: attrs>=17.4.0 in /root/anaconda/envs/ai/lib/python3.8/site-packages (from jsonschema!=2.5.0,>=2.4->nbformat>=4.2.0->ipywidgets->open3d) (20.3.0)\n",
      "Requirement already satisfied: ptyprocess>=0.5 in /root/anaconda/envs/ai/lib/python3.8/site-packages (from pexpect>4.3->ipython>=4.0.0->ipywidgets->open3d) (0.7.0)\n",
      "Requirement already satisfied: wcwidth in /root/anaconda/envs/ai/lib/python3.8/site-packages (from prompt-toolkit!=3.0.0,!=3.0.1,<3.1.0,>=2.0.0->ipython>=4.0.0->ipywidgets->open3d) (0.2.5)\n",
      "Requirement already satisfied: pyzmq>=17 in /root/anaconda/envs/ai/lib/python3.8/site-packages (from notebook->open3d) (21.0.1)\n",
      "Requirement already satisfied: prometheus-client in /root/anaconda/envs/ai/lib/python3.8/site-packages (from notebook->open3d) (0.9.0)\n",
      "Requirement already satisfied: argon2-cffi in /root/anaconda/envs/ai/lib/python3.8/site-packages (from notebook->open3d) (20.1.0)\n",
      "Requirement already satisfied: Send2Trash>=1.5.0 in /root/anaconda/envs/ai/lib/python3.8/site-packages (from notebook->open3d) (1.5.0)\n",
      "Requirement already satisfied: terminado>=0.8.3 in /root/anaconda/envs/ai/lib/python3.8/site-packages (from notebook->open3d) (0.9.2)\n",
      "Requirement already satisfied: jinja2 in /root/anaconda/envs/ai/lib/python3.8/site-packages (from notebook->open3d) (2.11.2)\n",
      "Requirement already satisfied: nbconvert in /root/anaconda/envs/ai/lib/python3.8/site-packages (from notebook->open3d) (6.0.7)\n",
      "Requirement already satisfied: python-dateutil>=2.1 in /root/anaconda/envs/ai/lib/python3.8/site-packages (from jupyter-client->ipykernel>=4.5.1->ipywidgets->open3d) (2.8.1)\n",
      "Requirement already satisfied: cffi>=1.0.0 in /root/anaconda/envs/ai/lib/python3.8/site-packages (from argon2-cffi->notebook->open3d) (1.14.4)\n",
      "Requirement already satisfied: pycparser in /root/anaconda/envs/ai/lib/python3.8/site-packages (from cffi>=1.0.0->argon2-cffi->notebook->open3d) (2.20)\n",
      "Requirement already satisfied: MarkupSafe>=0.23 in /root/anaconda/envs/ai/lib/python3.8/site-packages (from jinja2->notebook->open3d) (1.1.1)\n",
      "Requirement already satisfied: cycler>=0.10 in /root/anaconda/envs/ai/lib/python3.8/site-packages (from matplotlib->open3d) (0.10.0)\n",
      "Requirement already satisfied: certifi>=2020.06.20 in /root/anaconda/envs/ai/lib/python3.8/site-packages (from matplotlib->open3d) (2020.12.5)\n",
      "Requirement already satisfied: pillow>=6.2.0 in /root/anaconda/envs/ai/lib/python3.8/site-packages (from matplotlib->open3d) (8.1.0)\n",
      "Requirement already satisfied: kiwisolver>=1.0.1 in /root/anaconda/envs/ai/lib/python3.8/site-packages (from matplotlib->open3d) (1.3.1)\n",
      "Requirement already satisfied: pyparsing!=2.0.4,!=2.1.2,!=2.1.6,>=2.0.3 in /root/anaconda/envs/ai/lib/python3.8/site-packages (from matplotlib->open3d) (2.4.7)\n",
      "Requirement already satisfied: jupyterlab-pygments in /root/anaconda/envs/ai/lib/python3.8/site-packages (from nbconvert->notebook->open3d) (0.1.2)\n",
      "Requirement already satisfied: testpath in /root/anaconda/envs/ai/lib/python3.8/site-packages (from nbconvert->notebook->open3d) (0.4.4)\n",
      "Requirement already satisfied: bleach in /root/anaconda/envs/ai/lib/python3.8/site-packages (from nbconvert->notebook->open3d) (3.2.3)\n",
      "Requirement already satisfied: entrypoints>=0.2.2 in /root/anaconda/envs/ai/lib/python3.8/site-packages (from nbconvert->notebook->open3d) (0.3)\n",
      "Requirement already satisfied: mistune<2,>=0.8.1 in /root/anaconda/envs/ai/lib/python3.8/site-packages (from nbconvert->notebook->open3d) (0.8.4)\n",
      "Requirement already satisfied: pandocfilters>=1.4.1 in /root/anaconda/envs/ai/lib/python3.8/site-packages (from nbconvert->notebook->open3d) (1.4.2)\n",
      "Requirement already satisfied: nbclient<0.6.0,>=0.5.0 in /root/anaconda/envs/ai/lib/python3.8/site-packages (from nbconvert->notebook->open3d) (0.5.1)\n",
      "Requirement already satisfied: defusedxml in /root/anaconda/envs/ai/lib/python3.8/site-packages (from nbconvert->notebook->open3d) (0.6.0)\n"
     ]
    },
    {
     "name": "stdout",
     "output_type": "stream",
     "text": [
      "Requirement already satisfied: async-generator in /root/anaconda/envs/ai/lib/python3.8/site-packages (from nbclient<0.6.0,>=0.5.0->nbconvert->notebook->open3d) (1.10)\n",
      "Requirement already satisfied: nest-asyncio in /root/anaconda/envs/ai/lib/python3.8/site-packages (from nbclient<0.6.0,>=0.5.0->nbconvert->notebook->open3d) (1.4.3)\n",
      "Requirement already satisfied: webencodings in /root/anaconda/envs/ai/lib/python3.8/site-packages (from bleach->nbconvert->notebook->open3d) (0.5.1)\n",
      "Requirement already satisfied: packaging in /root/anaconda/envs/ai/lib/python3.8/site-packages (from bleach->nbconvert->notebook->open3d) (20.8)\n",
      "Requirement already satisfied: pytz>=2017.2 in /root/anaconda/envs/ai/lib/python3.8/site-packages (from pandas->open3d) (2019.3)\n",
      "Requirement already satisfied: scikit-learn in /root/anaconda/envs/ai/lib/python3.8/site-packages (from sklearn->open3d) (0.23.2)\n",
      "Requirement already satisfied: scipy>=0.19.1 in /root/anaconda/envs/ai/lib/python3.8/site-packages (from scikit-learn->sklearn->open3d) (1.4.1)\n",
      "Requirement already satisfied: joblib>=0.11 in /root/anaconda/envs/ai/lib/python3.8/site-packages (from scikit-learn->sklearn->open3d) (1.0.0)\n",
      "Requirement already satisfied: threadpoolctl>=2.0.0 in /root/anaconda/envs/ai/lib/python3.8/site-packages (from scikit-learn->sklearn->open3d) (2.1.0)\n"
     ]
    }
   ],
   "source": [
    "!pip install open3d"
   ]
  },
  {
   "cell_type": "code",
   "execution_count": 10,
   "metadata": {},
   "outputs": [],
   "source": [
    "import os\n",
    "import random\n",
    "from random import randrange\n",
    "from IPython.display import clear_output\n",
    "import numpy as np\n",
    "import torch\n",
    "import torch.nn as nn\n",
    "import torch.nn.parallel\n",
    "import torch.optim as optim\n",
    "import torch.utils.data\n",
    "import torchvision.datasets as dset\n",
    "import torchvision.transforms as transforms\n",
    "import torchvision.utils as vutils\n",
    "from torch.autograd import Variable\n",
    "from datasets import PartDataset\n",
    "#from pointnet import PointNetCls\n",
    "import torch.nn.functional as F\n",
    "import matplotlib.pyplot as plt\n",
    "import open3d as o3\n",
    "#import download\n",
    "from open3d import JVisualizer\n",
    "if torch.cuda.is_available():\n",
    "    import torch.backends.cudnn as cudnn"
   ]
  },
  {
   "cell_type": "markdown",
   "metadata": {},
   "source": [
    "# Dataset\n",
    "\n",
    "We are going to work with the ShapeNet Dataset.\n",
    "It's coming from Standford and will allow us to do both Classification and Segmentation."
   ]
  },
  {
   "cell_type": "code",
   "execution_count": 11,
   "metadata": {
    "scrolled": false
   },
   "outputs": [
    {
     "name": "stdout",
     "output_type": "stream",
     "text": [
      "WARNING: cannot verify shapenet.cs.stanford.edu's certificate, issued by ‘CN=InCommon RSA Server CA,OU=InCommon,O=Internet2,L=Ann Arbor,ST=MI,C=US’:\n",
      "  Issued certificate has expired.\n",
      "2021-02-16 11:45:10 URL:https://shapenet.cs.stanford.edu/ericyi/shapenetcore_partanno_segmentation_benchmark_v0.zip [666265910/666265910] -> \"shapenetcore_partanno_segmentation_benchmark_v0.zip\" [1]\n",
      "Archive:  shapenetcore_partanno_segmentation_benchmark_v0.zip\n",
      "replace shapenetcore_partanno_segmentation_benchmark_v0/02954340/seg_img/e823673c1edd73fb97c426435543a860.png? [y]es, [n]o, [A]ll, [N]one, [r]ename: ^C\n"
     ]
    }
   ],
   "source": [
    "#Run this only if you don't already have the Dataset\n",
    "!wget -nv https://shapenet.cs.stanford.edu/ericyi/shapenetcore_partanno_segmentation_benchmark_v0.zip --no-check-certificate\n",
    "!unzip shapenetcore_partanno_segmentation_benchmark_v0.zip\n",
    "!rm shapenetcore_partanno_segmentation_benchmark_v0.zip"
   ]
  },
  {
   "cell_type": "code",
   "execution_count": 4,
   "metadata": {},
   "outputs": [],
   "source": [
    "# Avoid an SSL Error\n",
    "import ssl\n",
    "ssl._create_default_https_context = ssl._create_unverified_context"
   ]
  },
  {
   "cell_type": "code",
   "execution_count": 5,
   "metadata": {},
   "outputs": [],
   "source": [
    "# General parameters\n",
    "NUM_POINTS = 10000\n",
    "DATA_FOLDER = DATA_FOLDER = './shapenetcore_partanno_segmentation_benchmark_v0'\n"
   ]
  },
  {
   "cell_type": "code",
   "execution_count": 2,
   "metadata": {},
   "outputs": [
    {
     "name": "stdout",
     "output_type": "stream",
     "text": [
      "test\n",
      "{'Chair': 0}\n",
      "3371\n",
      "torch.Size([2500, 3]) torch.FloatTensor torch.Size([2500]) torch.LongTensor\n",
      "{'Airplane': 0, 'Bag': 1, 'Cap': 2, 'Car': 3, 'Chair': 4, 'Earphone': 5, 'Guitar': 6, 'Knife': 7, 'Lamp': 8, 'Laptop': 9, 'Motorbike': 10, 'Mug': 11, 'Pistol': 12, 'Rocket': 13, 'Skateboard': 14, 'Table': 15}\n",
      "15990\n",
      "torch.Size([2500, 3]) torch.FloatTensor torch.Size([1]) torch.LongTensor\n"
     ]
    }
   ],
   "source": [
    "from __future__ import print_function\n",
    "import torch.utils.data as data\n",
    "from PIL import Image\n",
    "import os\n",
    "import os.path\n",
    "import errno\n",
    "import torch\n",
    "import json\n",
    "import codecs\n",
    "import numpy as np\n",
    "import progressbar\n",
    "import sys\n",
    "import torchvision.transforms as transforms\n",
    "import argparse\n",
    "import json\n",
    "import open3d\n",
    "\n",
    "\n",
    "class PartDataset(data.Dataset):\n",
    "    def __init__(self, root, npoints = 2500, classification = False, class_choice = None, train = True):\n",
    "        self.npoints = npoints\n",
    "        self.root = root\n",
    "        self.catfile = os.path.join(self.root, 'synsetoffset2category.txt')\n",
    "        self.cat = {}\n",
    "\n",
    "        self.classification = classification\n",
    "\n",
    "        with open(self.catfile, 'r') as f:\n",
    "            for line in f:\n",
    "                ls = line.strip().split()\n",
    "                self.cat[ls[0]] = ls[1]\n",
    "        #print(self.cat)\n",
    "        if not class_choice is  None:\n",
    "            self.cat = {k:v for k,v in self.cat.items() if k in class_choice}\n",
    "\n",
    "        self.meta = {}\n",
    "        for item in self.cat:\n",
    "            #print('category', item)\n",
    "            self.meta[item] = []\n",
    "            dir_point = os.path.join(self.root, self.cat[item], 'points')\n",
    "            dir_seg = os.path.join(self.root, self.cat[item], 'points_label')\n",
    "            #print(dir_point, dir_seg)\n",
    "            fns = sorted(os.listdir(dir_point))\n",
    "            if train:\n",
    "                fns = fns[:int(len(fns) * 0.9)]\n",
    "            else:\n",
    "                fns = fns[int(len(fns) * 0.9):]\n",
    "\n",
    "            #print(os.path.basename(fns))\n",
    "            for fn in fns:\n",
    "                token = (os.path.splitext(os.path.basename(fn))[0])\n",
    "                self.meta[item].append((os.path.join(dir_point, token + '.pts'), os.path.join(dir_seg, token + '.seg')))\n",
    "\n",
    "        self.datapath = []\n",
    "        for item in self.cat:\n",
    "            for fn in self.meta[item]:\n",
    "                self.datapath.append((item, fn[0], fn[1]))\n",
    "\n",
    "\n",
    "        self.classes = dict(zip(sorted(self.cat), range(len(self.cat))))\n",
    "        print(self.classes)\n",
    "        self.num_seg_classes = 0\n",
    "        if not self.classification:\n",
    "            for i in range(len(self.datapath)//50):\n",
    "                l = len(np.unique(np.loadtxt(self.datapath[i][-1]).astype(np.uint8)))\n",
    "                if l > self.num_seg_classes:\n",
    "                    self.num_seg_classes = l\n",
    "        #print(self.num_seg_classes)\n",
    "\n",
    "\n",
    "    def __getitem__(self, index):\n",
    "        fn = self.datapath[index]\n",
    "        cls = self.classes[self.datapath[index][0]]\n",
    "        point_set = np.asarray(\n",
    "            open3d.io.read_point_cloud(fn[1], format='xyz').points,\n",
    "            dtype=np.float32)\n",
    "        seg = np.loadtxt(fn[2]).astype(np.int64)\n",
    "        #print(point_set.shape, seg.shape)\n",
    "\n",
    "        choice = np.random.choice(len(seg), self.npoints, replace=True)\n",
    "        #resample\n",
    "        point_set = point_set[choice, :]\n",
    "        seg = seg[choice]\n",
    "        point_set = torch.from_numpy(point_set)\n",
    "        seg = torch.from_numpy(seg)\n",
    "        cls = torch.from_numpy(np.array([cls]).astype(np.int64))\n",
    "        if self.classification:\n",
    "            return point_set, cls\n",
    "        else:\n",
    "            return point_set, seg\n",
    "\n",
    "    def __len__(self):\n",
    "        return len(self.datapath)"
   ]
  },
  {
   "cell_type": "code",
   "execution_count": 6,
   "metadata": {
    "scrolled": true
   },
   "outputs": [
    {
     "name": "stdout",
     "output_type": "stream",
     "text": [
      "{'Airplane': 0, 'Bag': 1, 'Cap': 2, 'Car': 3, 'Chair': 4, 'Earphone': 5, 'Guitar': 6, 'Knife': 7, 'Lamp': 8, 'Laptop': 9, 'Motorbike': 10, 'Mug': 11, 'Pistol': 12, 'Rocket': 13, 'Skateboard': 14, 'Table': 15}\n"
     ]
    }
   ],
   "source": [
    "# Create dataset object\n",
    "test_dataset_seg = PartDataset(\n",
    "    root=DATA_FOLDER,\n",
    "    train=False,\n",
    "    classification=False,\n",
    "    npoints=NUM_POINTS)\n",
    "\n",
    "# Problem ontology\n",
    "classes_dict = {'Airplane': 0, 'Bag': 1, 'Cap': 2, 'Car': 3, 'Chair': 4, \n",
    "                'Earphone': 5, 'Guitar': 6, 'Knife': 7, 'Lamp': 8, 'Laptop': 9,\n",
    "                'Motorbike': 10, 'Mug': 11, 'Pistol': 12, 'Rocket': 13, \n",
    "                'Skateboard': 14, 'Table': 15}"
   ]
  },
  {
   "cell_type": "markdown",
   "metadata": {},
   "source": [
    "## Visualize the Dataset with Open3D"
   ]
  },
  {
   "cell_type": "code",
   "execution_count": 28,
   "metadata": {},
   "outputs": [
    {
     "name": "stdout",
     "output_type": "stream",
     "text": [
      "{'Airplane': 0, 'Bag': 1, 'Cap': 2, 'Car': 3, 'Chair': 4, 'Earphone': 5, 'Guitar': 6, 'Knife': 7, 'Lamp': 8, 'Laptop': 9, 'Motorbike': 10, 'Mug': 11, 'Pistol': 12, 'Rocket': 13, 'Skateboard': 14, 'Table': 15}\n",
      "15990\n",
      "torch.Size([2500, 3]) torch.FloatTensor torch.Size([2500]) torch.LongTensor\n"
     ]
    },
    {
     "data": {
      "text/plain": [
       "\"\\nd = PartDataset(root = 'shapenetcore_partanno_segmentation_benchmark_v0', classification = True)\\nprint(len(d))\\nps, cls = d[0]\\nprint(ps.size(), ps.type(), cls.size(),cls.type())\\n\""
      ]
     },
     "execution_count": 28,
     "metadata": {},
     "output_type": "execute_result"
    }
   ],
   "source": [
    "d = PartDataset(root = 'shapenetcore_partanno_segmentation_benchmark_v0', class_choice = ['Airplane'])\n",
    "print(len(d))\n",
    "import random\n",
    "ps, seg = random.choice(d)\n",
    "print(ps.size(), ps.type(), seg.size(),seg.type())\n",
    "\n",
    "'''\n",
    "d = PartDataset(root = 'shapenetcore_partanno_segmentation_benchmark_v0', classification = True)\n",
    "print(len(d))\n",
    "ps, cls = d[0]\n",
    "print(ps.size(), ps.type(), cls.size(),cls.type())\n",
    "'''"
   ]
  },
  {
   "cell_type": "code",
   "execution_count": 17,
   "metadata": {},
   "outputs": [],
   "source": [
    "# Simple point cloud coloring mapping\n",
    "def read_pointnet_colors(seg_labels):\n",
    "    map_label_to_rgb = {\n",
    "        1: [0, 255, 0],\n",
    "        2: [0, 0, 255],\n",
    "        3: [255, 0, 0],\n",
    "        4: [255, 0, 255],  # purple\n",
    "        5: [0, 255, 255],  # cyan\n",
    "        6: [255, 255, 0],  # yellow\n",
    "    }\n",
    "    colors = np.array([map_label_to_rgb[label] for label in seg_labels])\n",
    "    return colors"
   ]
  },
  {
   "cell_type": "code",
   "execution_count": 29,
   "metadata": {},
   "outputs": [
    {
     "data": {
      "application/vnd.jupyter.widget-view+json": {
       "model_id": "e36b03f527124a86857e8d6b8ac0dbea",
       "version_major": 2,
       "version_minor": 0
      },
      "text/plain": [
       "JVisualizer with 1 geometries"
      ]
     },
     "metadata": {},
     "output_type": "display_data"
    }
   ],
   "source": [
    "test_vis = JVisualizer()\n",
    "test_vis.clear()\n",
    "clear_output()\n",
    "test_cloud = o3.geometry.PointCloud()\n",
    "test_cloud.points = o3.utility.Vector3dVector(ps)\n",
    "test_cloud.colors = o3.utility.Vector3dVector(read_pointnet_colors(seg.numpy()))\n",
    "\n",
    "test_vis.add_geometry(test_cloud)\n",
    "test_vis.show()"
   ]
  },
  {
   "cell_type": "markdown",
   "metadata": {},
   "source": [
    "# 3D Deep Learning Model"
   ]
  },
  {
   "cell_type": "markdown",
   "metadata": {},
   "source": [
    "## Build the Model"
   ]
  },
  {
   "cell_type": "code",
   "execution_count": 36,
   "metadata": {},
   "outputs": [
    {
     "name": "stdout",
     "output_type": "stream",
     "text": [
      "stn torch.Size([32, 3, 3])\n"
     ]
    }
   ],
   "source": [
    "class STN3d(nn.Module):\n",
    "    \"\"\"\n",
    "    T-Net Model. \n",
    "    STN stands for Spatial Transformer Network.\n",
    "    \"\"\"\n",
    "    def __init__(self, num_points = 2500):\n",
    "        super(STN3d, self).__init__()\n",
    "        self.num_points = num_points\n",
    "        self.conv1 = torch.nn.Conv1d(3, 64, 1)\n",
    "        self.conv2 = torch.nn.Conv1d(64, 128, 1)\n",
    "        self.conv3 = torch.nn.Conv1d(128, 1024, 1)\n",
    "        self.mp1 = torch.nn.MaxPool1d(num_points)\n",
    "        self.fc1 = nn.Linear(1024, 512)\n",
    "        self.fc2 = nn.Linear(512, 256)\n",
    "        self.fc3 = nn.Linear(256, 9)\n",
    "        self.relu = nn.ReLU()\n",
    "\n",
    "        self.bn1 = nn.BatchNorm1d(64)\n",
    "        self.bn2 = nn.BatchNorm1d(128)\n",
    "        self.bn3 = nn.BatchNorm1d(1024)\n",
    "        self.bn4 = nn.BatchNorm1d(512)\n",
    "        self.bn5 = nn.BatchNorm1d(256)\n",
    "\n",
    "\n",
    "    def forward(self, x):\n",
    "        batchsize = x.size()[0]\n",
    "        x = F.relu(self.bn1(self.conv1(x)))\n",
    "        x = F.relu(self.bn2(self.conv2(x)))\n",
    "        x = F.relu(self.bn3(self.conv3(x)))\n",
    "        x = self.mp1(x)\n",
    "        x = x.view(-1, 1024)\n",
    "\n",
    "        x = F.relu(self.bn4(self.fc1(x)))\n",
    "        x = F.relu(self.bn5(self.fc2(x)))\n",
    "        x = self.fc3(x)\n",
    "\n",
    "        iden = Variable(torch.from_numpy(np.array([1,0,0,0,1,0,0,0,1]).astype(np.float32))).view(1,9).repeat(batchsize,1)\n",
    "        if x.is_cuda:\n",
    "            iden = iden.cuda()\n",
    "        x = x + iden\n",
    "        x = x.view(-1, 3, 3)\n",
    "        return x\n",
    "\n",
    "sim_data = Variable(torch.rand(32,3,2500))\n",
    "trans = STN3d()\n",
    "out = trans(sim_data)\n",
    "print('stn', out.size())"
   ]
  },
  {
   "cell_type": "code",
   "execution_count": 31,
   "metadata": {},
   "outputs": [],
   "source": [
    "class PointNetfeat(nn.Module):\n",
    "    \"\"\"\n",
    "    This is the T-Net for Feature Transform.\n",
    "    There is also MLP part 64,128,1024.\n",
    "    \"\"\"\n",
    "    def __init__(self, num_points = 2500, global_feat = True):\n",
    "        super(PointNetfeat, self).__init__()\n",
    "        self.stn = STN3d(num_points = num_points)\n",
    "        self.conv1 = torch.nn.Conv1d(3, 64, 1)\n",
    "        self.conv2 = torch.nn.Conv1d(64, 128, 1)\n",
    "        self.conv3 = torch.nn.Conv1d(128, 1024, 1)\n",
    "        self.bn1 = nn.BatchNorm1d(64)\n",
    "        self.bn2 = nn.BatchNorm1d(128)\n",
    "        self.bn3 = nn.BatchNorm1d(1024)\n",
    "        self.mp1 = torch.nn.MaxPool1d(num_points)\n",
    "        self.num_points = num_points\n",
    "        self.global_feat = global_feat\n",
    "        \n",
    "    def forward(self, x):\n",
    "        batchsize = x.size()[0]\n",
    "        trans = self.stn(x)\n",
    "        x = x.transpose(2,1)\n",
    "        x = torch.bmm(x, trans)\n",
    "        x = x.transpose(2,1)\n",
    "        x = F.relu(self.bn1(self.conv1(x)))\n",
    "        pointfeat = x\n",
    "        x = F.relu(self.bn2(self.conv2(x)))\n",
    "        x = self.bn3(self.conv3(x))\n",
    "        x = self.mp1(x)\n",
    "        x = x.view(-1, 1024)\n",
    "        if self.global_feat:\n",
    "            return x, trans\n",
    "        else:\n",
    "            x = x.view(-1, 1024, 1).repeat(1, 1, self.num_points)\n",
    "            return torch.cat([x, pointfeat], 1), trans"
   ]
  },
  {
   "cell_type": "code",
   "execution_count": 37,
   "metadata": {},
   "outputs": [
    {
     "name": "stdout",
     "output_type": "stream",
     "text": [
      "global feat torch.Size([32, 1024])\n"
     ]
    }
   ],
   "source": [
    "pointfeat = PointNetfeat(global_feat=True)\n",
    "out, _ = pointfeat(sim_data)\n",
    "print('global feat', out.size())"
   ]
  },
  {
   "cell_type": "code",
   "execution_count": 32,
   "metadata": {},
   "outputs": [],
   "source": [
    "class PointNetCls(nn.Module):\n",
    "    \"\"\"\n",
    "    Network for Classification: 512, 256, K.\n",
    "    \"\"\"\n",
    "    def __init__(self, num_points = 2500, k = 2):\n",
    "        super(PointNetCls, self).__init__()\n",
    "        self.num_points = num_points\n",
    "        self.feat = PointNetfeat(num_points, global_feat=True)\n",
    "        self.fc1 = nn.Linear(1024, 512)\n",
    "        self.fc2 = nn.Linear(512, 256)\n",
    "        self.fc3 = nn.Linear(256, k)\n",
    "        self.bn1 = nn.BatchNorm1d(512)\n",
    "        self.bn2 = nn.BatchNorm1d(256)\n",
    "        self.relu = nn.ReLU()\n",
    "    def forward(self, x):\n",
    "        x, trans = self.feat(x)\n",
    "        x = F.relu(self.bn1(self.fc1(x)))\n",
    "        x = F.relu(self.bn2(self.fc2(x)))\n",
    "        x = self.fc3(x)\n",
    "        return F.log_softmax(x, dim=-1), trans"
   ]
  },
  {
   "cell_type": "code",
   "execution_count": 38,
   "metadata": {},
   "outputs": [
    {
     "name": "stdout",
     "output_type": "stream",
     "text": [
      "global feat torch.Size([32, 1024])\n",
      "point feat torch.Size([32, 1088, 2500])\n",
      "class torch.Size([32, 5])\n"
     ]
    }
   ],
   "source": [
    "pointfeat = PointNetfeat(global_feat=True)\n",
    "out, _ = pointfeat(sim_data)\n",
    "print('global feat', out.size())\n",
    "\n",
    "pointfeat = PointNetfeat(global_feat=False)\n",
    "out, _ = pointfeat(sim_data)\n",
    "print('point feat', out.size())\n",
    "\n",
    "cls = PointNetCls(k = 5)\n",
    "out, _ = cls(sim_data)\n",
    "print('class', out.size())"
   ]
  },
  {
   "cell_type": "code",
   "execution_count": 33,
   "metadata": {},
   "outputs": [],
   "source": [
    "class PointNetDenseCls(nn.Module):\n",
    "    \"\"\"\n",
    "    Network for Segmentation\n",
    "    \"\"\"\n",
    "    def __init__(self, num_points = 2500, k = 2):\n",
    "        super(PointNetDenseCls, self).__init__()\n",
    "        self.num_points = num_points\n",
    "        self.k = k\n",
    "        self.feat = PointNetfeat(num_points, global_feat=False)\n",
    "        self.conv1 = torch.nn.Conv1d(1088, 512, 1)\n",
    "        self.conv2 = torch.nn.Conv1d(512, 256, 1)\n",
    "        self.conv3 = torch.nn.Conv1d(256, 128, 1)\n",
    "        self.conv4 = torch.nn.Conv1d(128, self.k, 1)\n",
    "        self.bn1 = nn.BatchNorm1d(512)\n",
    "        self.bn2 = nn.BatchNorm1d(256)\n",
    "        self.bn3 = nn.BatchNorm1d(128)\n",
    "\n",
    "    def forward(self, x):\n",
    "        batchsize = x.size()[0]\n",
    "        x, trans = self.feat(x)\n",
    "        x = F.relu(self.bn1(self.conv1(x)))\n",
    "        x = F.relu(self.bn2(self.conv2(x)))\n",
    "        x = F.relu(self.bn3(self.conv3(x)))\n",
    "        x = self.conv4(x)\n",
    "        x = x.transpose(2,1).contiguous()\n",
    "        x = F.log_softmax(x.view(-1,self.k), dim=-1)\n",
    "        x = x.view(batchsize, self.num_points, self.k)\n",
    "        return x, trans"
   ]
  },
  {
   "cell_type": "code",
   "execution_count": 39,
   "metadata": {},
   "outputs": [
    {
     "name": "stdout",
     "output_type": "stream",
     "text": [
      "seg torch.Size([32, 2500, 3])\n"
     ]
    }
   ],
   "source": [
    "seg = PointNetDenseCls(k = 3)\n",
    "out, _ = seg(sim_data)\n",
    "print('seg', out.size())"
   ]
  },
  {
   "cell_type": "markdown",
   "metadata": {},
   "source": [
    "## Train the Model for classification and segmentation"
   ]
  },
  {
   "cell_type": "code",
   "execution_count": null,
   "metadata": {},
   "outputs": [],
   "source": [
    "classifier = PointNetCls(k = num_classes, num_points = opt.num_points)\n",
    "\n",
    "\n",
    "if opt.model != '':\n",
    "    classifier.load_state_dict(torch.load(opt.model))\n",
    "\n",
    "\n",
    "optimizer = optim.SGD(classifier.parameters(), lr=0.01, momentum=0.9)\n",
    "if torch.cuda.is_available():\n",
    "    classifier.cuda()\n",
    "\n",
    "num_batch = len(dataset)/opt.batchSize\n",
    "\n",
    "for epoch in range(opt.nepoch):\n",
    "    for i, data in enumerate(dataloader, 0):\n",
    "        points, target = data\n",
    "        points, target = Variable(points), Variable(target[:,0])\n",
    "        points = points.transpose(2,1)\n",
    "        if torch.cuda.is_available():\n",
    "            points, target = points.cuda(), target.cuda()\n",
    "        optimizer.zero_grad()\n",
    "        classifier = classifier.train()\n",
    "        pred, _ = classifier(points)\n",
    "        loss = F.nll_loss(pred, target)\n",
    "        loss.backward()\n",
    "        optimizer.step()\n",
    "        pred_choice = pred.data.max(1)[1]\n",
    "        correct = pred_choice.eq(target.data).cpu().sum()\n",
    "        print('[%d: %d/%d] train loss: %f accuracy: %f' %(epoch, i, num_batch, loss.item(),correct.item() / float(opt.batchSize)))\n",
    "\n",
    "        if i % 10 == 0:\n",
    "            j, data = next(enumerate(testdataloader, 0))\n",
    "            points, target = data\n",
    "            points, target = Variable(points), Variable(target[:,0])\n",
    "            points = points.transpose(2,1)\n",
    "            if torch.cuda.is_available():\n",
    "                points, target = points.cuda(), target.cuda()\n",
    "            classifier = classifier.eval()\n",
    "            pred, _ = classifier(points)\n",
    "            loss = F.nll_loss(pred, target)\n",
    "            pred_choice = pred.data.max(1)[1]\n",
    "            correct = pred_choice.eq(target.data).cpu().sum()\n",
    "            print('[%d: %d/%d] %s loss: %f accuracy: %f' %(epoch, i, num_batch, blue('test'), loss.item(), correct.item()/float(opt.batchSize)))\n",
    "\n",
    "    torch.save(classifier.state_dict(), '%s/cls_model_%d.pth' % (opt.outf, epoch))"
   ]
  },
  {
   "cell_type": "code",
   "execution_count": 5,
   "metadata": {},
   "outputs": [
    {
     "data": {
      "text/plain": [
       "PointNetCls(\n",
       "  (feat): PointNetfeat(\n",
       "    (stn): STN3d(\n",
       "      (conv1): Conv1d(3, 64, kernel_size=(1,), stride=(1,))\n",
       "      (conv2): Conv1d(64, 128, kernel_size=(1,), stride=(1,))\n",
       "      (conv3): Conv1d(128, 1024, kernel_size=(1,), stride=(1,))\n",
       "      (mp1): MaxPool1d(kernel_size=10000, stride=10000, padding=0, dilation=1, ceil_mode=False)\n",
       "      (fc1): Linear(in_features=1024, out_features=512, bias=True)\n",
       "      (fc2): Linear(in_features=512, out_features=256, bias=True)\n",
       "      (fc3): Linear(in_features=256, out_features=9, bias=True)\n",
       "      (relu): ReLU()\n",
       "      (bn1): BatchNorm1d(64, eps=1e-05, momentum=0.1, affine=True, track_running_stats=True)\n",
       "      (bn2): BatchNorm1d(128, eps=1e-05, momentum=0.1, affine=True, track_running_stats=True)\n",
       "      (bn3): BatchNorm1d(1024, eps=1e-05, momentum=0.1, affine=True, track_running_stats=True)\n",
       "      (bn4): BatchNorm1d(512, eps=1e-05, momentum=0.1, affine=True, track_running_stats=True)\n",
       "      (bn5): BatchNorm1d(256, eps=1e-05, momentum=0.1, affine=True, track_running_stats=True)\n",
       "    )\n",
       "    (conv1): Conv1d(3, 64, kernel_size=(1,), stride=(1,))\n",
       "    (conv2): Conv1d(64, 128, kernel_size=(1,), stride=(1,))\n",
       "    (conv3): Conv1d(128, 1024, kernel_size=(1,), stride=(1,))\n",
       "    (bn1): BatchNorm1d(64, eps=1e-05, momentum=0.1, affine=True, track_running_stats=True)\n",
       "    (bn2): BatchNorm1d(128, eps=1e-05, momentum=0.1, affine=True, track_running_stats=True)\n",
       "    (bn3): BatchNorm1d(1024, eps=1e-05, momentum=0.1, affine=True, track_running_stats=True)\n",
       "    (mp1): MaxPool1d(kernel_size=10000, stride=10000, padding=0, dilation=1, ceil_mode=False)\n",
       "  )\n",
       "  (fc1): Linear(in_features=1024, out_features=512, bias=True)\n",
       "  (fc2): Linear(in_features=512, out_features=256, bias=True)\n",
       "  (fc3): Linear(in_features=256, out_features=16, bias=True)\n",
       "  (bn1): BatchNorm1d(512, eps=1e-05, momentum=0.1, affine=True, track_running_stats=True)\n",
       "  (bn2): BatchNorm1d(256, eps=1e-05, momentum=0.1, affine=True, track_running_stats=True)\n",
       "  (relu): ReLU()\n",
       ")"
      ]
     },
     "execution_count": 5,
     "metadata": {},
     "output_type": "execute_result"
    }
   ],
   "source": [
    "# Create the classification network from pre-trained model\n",
    "classifier = PointNetCls(k=len(classes_dict.items()), num_points=NUM_POINTS)\n",
    "if torch.cuda.is_available():\n",
    "    classifier.cuda()\n",
    "    classifier.load_state_dict(torch.load(MODEL_PATH))\n",
    "else:\n",
    "    classifier.load_state_dict(torch.load(MODEL_PATH, map_location='cpu'))\n",
    "classifier.eval()"
   ]
  },
  {
   "cell_type": "code",
   "execution_count": null,
   "metadata": {},
   "outputs": [
    {
     "data": {
      "application/vnd.jupyter.widget-view+json": {
       "model_id": "e6535c285f274987a3a9d091b6cc4b7a",
       "version_major": 2,
       "version_minor": 0
      },
      "text/plain": [
       "JVisualizer with 1 geometries"
      ]
     },
     "metadata": {},
     "output_type": "display_data"
    },
    {
     "data": {
      "image/png": "[encoded data removed]",
      "text/plain": [
       "<Figure size 432x288 with 1 Axes>"
      ]
     },
     "metadata": {
      "needs_background": "light"
     },
     "output_type": "display_data"
    }
   ],
   "source": [
    "# Three.js based visualizer\n",
    "visualizer = JVisualizer()\n",
    "\n",
    "# Basic inference and visualization loop\n",
    "MAX_SAMPLES = 15\n",
    "for samples in range(MAX_SAMPLES):\n",
    "    random_index = randrange(len(test_dataset_seg))\n",
    "    print('[Sample {} / {}]'.format(random_index, len(test_dataset_seg)))\n",
    "    \n",
    "    # clean visualization\n",
    "    visualizer.clear()\n",
    "    clear_output()\n",
    "\n",
    "    # get next sample\n",
    "    point_set, seg = test_dataset_seg.__getitem__(random_index)\n",
    "\n",
    "    # create cloud for visualization\n",
    "    cloud = o3.geometry.PointCloud()\n",
    "    cloud.points = o3.utility.Vector3dVector(point_set)\n",
    "    cloud.colors = o3.utility.Vector3dVector(read_pointnet_colors(seg.numpy()))\n",
    "\n",
    "    # perform inference in GPU\n",
    "    points = Variable(point_set.unsqueeze(0))\n",
    "    points = points.transpose(2, 1)\n",
    "    if torch.cuda.is_available():\n",
    "        points = points.cuda()\n",
    "    pred_logsoft, _ = classifier(points)\n",
    "\n",
    "    # move data back to cpu for visualization\n",
    "    pred_logsoft_cpu = pred_logsoft.data.cpu().numpy().squeeze()\n",
    "    pred_soft_cpu = np.exp(pred_logsoft_cpu)\n",
    "    pred_class = np.argmax(pred_soft_cpu)\n",
    "\n",
    "    # let's visualize the input sample\n",
    "    visualizer.add_geometry(cloud)\n",
    "    visualizer.show()\n",
    "    \n",
    "    # Visualize probabilities\n",
    "    plt.xticks(list(classes_dict.values()), list(classes_dict.keys()),rotation=90)\n",
    "    plt.xlabel('Classes')\n",
    "    plt.ylabel('Probabilities')\n",
    "    plt.plot(list(classes_dict.values()), pred_soft_cpu)\n",
    "    plt.show()\n",
    "\n",
    "    input('Your object is a [{}] with probability {:0.3}. Press enter to continue!'\n",
    "          .format(list(classes_dict.keys())[pred_class], pred_soft_cpu[pred_class]))\n",
    "    "
   ]
  },
  {
   "cell_type": "code",
   "execution_count": null,
   "metadata": {},
   "outputs": [],
   "source": [
    "\n"
   ]
  }
 ],
 "metadata": {
  "kernelspec": {
   "display_name": "Python 3",
   "language": "python",
   "name": "python3"
  },
  "language_info": {
   "codemirror_mode": {
    "name": "ipython",
    "version": 3
   },
   "file_extension": ".py",
   "mimetype": "text/x-python",
   "name": "python",
   "nbconvert_exporter": "python",
   "pygments_lexer": "ipython3",
   "version": "3.8.5"
  }
 },
 "nbformat": 4,
 "nbformat_minor": 2
}
