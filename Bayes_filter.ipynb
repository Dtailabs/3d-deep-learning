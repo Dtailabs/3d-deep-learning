{
  "nbformat": 4,
  "nbformat_minor": 0,
  "metadata": {
    "colab": {
      "name": "Tutorial_3_Bayes_filter.ipynb",
      "provenance": [],
      "collapsed_sections": [],
      "authorship_tag": "ABX9TyMIf7l4SszvSTSxgBpnLaGq",
      "include_colab_link": true
    },
    "kernelspec": {
      "name": "python3",
      "display_name": "Python 3"
    },
    "language_info": {
      "name": "python"
    }
  },
  "cells": [
    {
      "cell_type": "markdown",
      "metadata": {
        "id": "view-in-github",
        "colab_type": "text"
      },
      "source": [
        "<a href=\"https://colab.research.google.com/github/Mayakshanesht/3d-deep-learning/blob/main/Bayes_filter.ipynb\" target=\"_parent\"><img src=\"https://colab.research.google.com/assets/colab-badge.svg\" alt=\"Open In Colab\"/></a>"
      ]
    },
    {
      "cell_type": "code",
      "metadata": {
        "id": "NOXf07S4dLmB"
      },
      "source": [
        "import numpy as np\n",
        "import matplotlib.pyplot as plt"
      ],
      "execution_count": null,
      "outputs": []
    },
    {
      "cell_type": "code",
      "metadata": {
        "id": "gvXm0SPfdyYm"
      },
      "source": [
        "def plot_bar(pos,x=None,ylim=(0,1),title=None,c='#30a2da',**kwargs):\n",
        "  ax=plt.gca()\n",
        "  if x is None:\n",
        "    x=np.arange(len(pos))\n",
        "  ax.bar(x,pos,color=c,**kwargs)\n",
        "  if ylim:\n",
        "    plt.ylim(ylim)\n",
        "  plt.xticks(np.asarray(x),x)\n",
        "  if title is not None:\n",
        "    plt.title(title)"
      ],
      "execution_count": null,
      "outputs": []
    },
    {
      "cell_type": "code",
      "metadata": {
        "colab": {
          "base_uri": "https://localhost:8080/",
          "height": 268
        },
        "id": "xXnrIV99fXlk",
        "outputId": "c94cf89f-b22b-4240-d99b-4002d76741f0"
      },
      "source": [
        "belief=np.array([1/6,1/6,1/6,1/6,1/6,1/6])\n",
        "plot_bar(belief)"
      ],
      "execution_count": null,
      "outputs": [
        {
          "output_type": "display_data",
          "data": {
            "image/png": "[encoded data removed]",
            "text/plain": [
              "<Figure size 432x288 with 1 Axes>"
            ]
          },
          "metadata": {
            "tags": [],
            "needs_background": "light"
          }
        }
      ]
    },
    {
      "cell_type": "code",
      "metadata": {
        "colab": {
          "base_uri": "https://localhost:8080/"
        },
        "id": "yQyArmQAg7Un",
        "outputId": "40804681-05ed-4aea-e495-846bd94419f5"
      },
      "source": [
        "!pip install filterpy"
      ],
      "execution_count": null,
      "outputs": [
        {
          "output_type": "stream",
          "text": [
            "Requirement already satisfied: filterpy in /usr/local/lib/python3.7/dist-packages (1.4.5)\n",
            "Requirement already satisfied: matplotlib in /usr/local/lib/python3.7/dist-packages (from filterpy) (3.2.2)\n",
            "Requirement already satisfied: scipy in /usr/local/lib/python3.7/dist-packages (from filterpy) (1.4.1)\n",
            "Requirement already satisfied: numpy in /usr/local/lib/python3.7/dist-packages (from filterpy) (1.19.5)\n",
            "Requirement already satisfied: cycler>=0.10 in /usr/local/lib/python3.7/dist-packages (from matplotlib->filterpy) (0.10.0)\n",
            "Requirement already satisfied: pyparsing!=2.0.4,!=2.1.2,!=2.1.6,>=2.0.1 in /usr/local/lib/python3.7/dist-packages (from matplotlib->filterpy) (2.4.7)\n",
            "Requirement already satisfied: python-dateutil>=2.1 in /usr/local/lib/python3.7/dist-packages (from matplotlib->filterpy) (2.8.1)\n",
            "Requirement already satisfied: kiwisolver>=1.0.1 in /usr/local/lib/python3.7/dist-packages (from matplotlib->filterpy) (1.3.1)\n",
            "Requirement already satisfied: six in /usr/local/lib/python3.7/dist-packages (from cycler>=0.10->matplotlib->filterpy) (1.15.0)\n"
          ],
          "name": "stdout"
        }
      ]
    },
    {
      "cell_type": "code",
      "metadata": {
        "id": "LBceHa5akuSg"
      },
      "source": [
        "from filterpy.discrete_bayes import normalize, predict, update"
      ],
      "execution_count": null,
      "outputs": []
    },
    {
      "cell_type": "code",
      "metadata": {
        "id": "oYh4ZbqDlV9A"
      },
      "source": [
        "#lets move two steps\n",
        "def predict1(belief):\n",
        "  prior_belief=predict(belief,offset=1,kernel=[0.8,0.15,0.05])\n",
        "  return prior_belief"
      ],
      "execution_count": null,
      "outputs": []
    },
    {
      "cell_type": "code",
      "metadata": {
        "id": "FcboT-ISl9ob"
      },
      "source": [
        "def likelihood():\n",
        "  likelihood=normalize([0.1,0.8,0.3,0.5,0.4,0.2])\n",
        "  return likelihood"
      ],
      "execution_count": null,
      "outputs": []
    },
    {
      "cell_type": "code",
      "metadata": {
        "id": "97DtzrzdmRmK"
      },
      "source": [
        "def update1(likelihood,prior_belief):\n",
        "  posterior_belief=update(likelihood,prior_belief)\n",
        "  return posterior_belief"
      ],
      "execution_count": null,
      "outputs": []
    },
    {
      "cell_type": "code",
      "metadata": {
        "colab": {
          "base_uri": "https://localhost:8080/",
          "height": 268
        },
        "id": "CmUIGwGsqlBM",
        "outputId": "5947db90-a367-40b1-998b-46440e094180"
      },
      "source": [
        "prior=predict1(belief)\n",
        "like=likelihood()\n",
        "post=update1(like,prior)\n",
        "plot_bar(post)"
      ],
      "execution_count": null,
      "outputs": [
        {
          "output_type": "display_data",
          "data": {
            "image/png": "[encoded data removed]",
            "text/plain": [
              "<Figure size 432x288 with 1 Axes>"
            ]
          },
          "metadata": {
            "tags": [],
            "needs_background": "light"
          }
        }
      ]
    }
  ]
}