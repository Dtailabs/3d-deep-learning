{
  "nbformat": 4,
  "nbformat_minor": 0,
  "metadata": {
    "colab": {
      "name": "KalmanFilter.ipynb",
      "provenance": [],
      "collapsed_sections": [],
      "authorship_tag": "ABX9TyMHc/jIOWL34zA1p70Rka/S",
      "include_colab_link": true
    },
    "kernelspec": {
      "name": "python3",
      "display_name": "Python 3"
    },
    "language_info": {
      "name": "python"
    }
  },
  "cells": [
    {
      "cell_type": "markdown",
      "metadata": {
        "id": "view-in-github",
        "colab_type": "text"
      },
      "source": [
        "<a href=\"https://colab.research.google.com/github/Mayakshanesht/3d-deep-learning/blob/main/KalmanFilter.ipynb\" target=\"_parent\"><img src=\"https://colab.research.google.com/assets/colab-badge.svg\" alt=\"Open In Colab\"/></a>"
      ]
    },
    {
      "cell_type": "code",
      "metadata": {
        "colab": {
          "base_uri": "https://localhost:8080/"
        },
        "id": "tpM42LeB4dVk",
        "outputId": "7b20387b-1c5f-437a-a005-2594341580ec"
      },
      "source": [
        "!pip install filterpy"
      ],
      "execution_count": 1,
      "outputs": [
        {
          "output_type": "stream",
          "text": [
            "Collecting filterpy\n",
            "\u001b[?25l  Downloading https://files.pythonhosted.org/packages/f6/1d/ac8914360460fafa1990890259b7fa5ef7ba4cd59014e782e4ab3ab144d8/filterpy-1.4.5.zip (177kB)\n",
            "\r\u001b[K     |█▉                              | 10kB 15.8MB/s eta 0:00:01\r\u001b[K     |███▊                            | 20kB 21.9MB/s eta 0:00:01\r\u001b[K     |█████▌                          | 30kB 21.4MB/s eta 0:00:01\r\u001b[K     |███████▍                        | 40kB 16.7MB/s eta 0:00:01\r\u001b[K     |█████████▏                      | 51kB 8.5MB/s eta 0:00:01\r\u001b[K     |███████████                     | 61kB 7.2MB/s eta 0:00:01\r\u001b[K     |████████████▉                   | 71kB 8.1MB/s eta 0:00:01\r\u001b[K     |██████████████▊                 | 81kB 8.9MB/s eta 0:00:01\r\u001b[K     |████████████████▋               | 92kB 9.6MB/s eta 0:00:01\r\u001b[K     |██████████████████▍             | 102kB 8.0MB/s eta 0:00:01\r\u001b[K     |████████████████████▎           | 112kB 8.0MB/s eta 0:00:01\r\u001b[K     |██████████████████████          | 122kB 8.0MB/s eta 0:00:01\r\u001b[K     |████████████████████████        | 133kB 8.0MB/s eta 0:00:01\r\u001b[K     |█████████████████████████▊      | 143kB 8.0MB/s eta 0:00:01\r\u001b[K     |███████████████████████████▋    | 153kB 8.0MB/s eta 0:00:01\r\u001b[K     |█████████████████████████████▌  | 163kB 8.0MB/s eta 0:00:01\r\u001b[K     |███████████████████████████████▎| 174kB 8.0MB/s eta 0:00:01\r\u001b[K     |████████████████████████████████| 184kB 8.0MB/s \n",
            "\u001b[?25hRequirement already satisfied: numpy in /usr/local/lib/python3.7/dist-packages (from filterpy) (1.19.5)\n",
            "Requirement already satisfied: scipy in /usr/local/lib/python3.7/dist-packages (from filterpy) (1.4.1)\n",
            "Requirement already satisfied: matplotlib in /usr/local/lib/python3.7/dist-packages (from filterpy) (3.2.2)\n",
            "Requirement already satisfied: cycler>=0.10 in /usr/local/lib/python3.7/dist-packages (from matplotlib->filterpy) (0.10.0)\n",
            "Requirement already satisfied: kiwisolver>=1.0.1 in /usr/local/lib/python3.7/dist-packages (from matplotlib->filterpy) (1.3.1)\n",
            "Requirement already satisfied: pyparsing!=2.0.4,!=2.1.2,!=2.1.6,>=2.0.1 in /usr/local/lib/python3.7/dist-packages (from matplotlib->filterpy) (2.4.7)\n",
            "Requirement already satisfied: python-dateutil>=2.1 in /usr/local/lib/python3.7/dist-packages (from matplotlib->filterpy) (2.8.1)\n",
            "Requirement already satisfied: six in /usr/local/lib/python3.7/dist-packages (from cycler>=0.10->matplotlib->filterpy) (1.15.0)\n",
            "Building wheels for collected packages: filterpy\n",
            "  Building wheel for filterpy (setup.py) ... \u001b[?25l\u001b[?25hdone\n",
            "  Created wheel for filterpy: filename=filterpy-1.4.5-cp37-none-any.whl size=110476 sha256=28dbacb82b2bbdc04be0851745347f5d85104bceed25d33490c944bc202a8828\n",
            "  Stored in directory: /root/.cache/pip/wheels/c3/0c/dd/e92392c3f38a41371602d99fc77d6c1d42aadbf0c6afccdd02\n",
            "Successfully built filterpy\n",
            "Installing collected packages: filterpy\n",
            "Successfully installed filterpy-1.4.5\n"
          ],
          "name": "stdout"
        }
      ]
    },
    {
      "cell_type": "code",
      "metadata": {
        "id": "5gdRtewZ4tyO"
      },
      "source": [
        "from filterpy.kalman import KalmanFilter\n",
        "from scipy.linalg import block_diag\n",
        "from filterpy.common import Q_discrete_white_noise\n",
        "import numpy as np"
      ],
      "execution_count": 2,
      "outputs": []
    },
    {
      "cell_type": "code",
      "metadata": {
        "id": "Hbo4qLTN4-y3"
      },
      "source": [
        "def OneDimensionKF(R_std, Q_std, dt):\n",
        "    \"\"\" Create first order 2D Kalman filter.\"\"\"\n",
        "    kf = KalmanFilter(dim_x=2, dim_z=1)\n",
        "    kf.x = np.zeros(2)\n",
        "    kf.P = np.eye(2)*500\n",
        "    kf.R = np.eye(1)*R_std**2\n",
        "    kf.Q = Q_discrete_white_noise(dim=2,dt=dt,var=Q_std**2)\n",
        "    kf.F = np.array([[1.,dt],[0.,1.]])\n",
        "    kf.H = np.array([[1.,0.]])\n",
        "    return kf"
      ],
      "execution_count": 8,
      "outputs": []
    },
    {
      "cell_type": "code",
      "metadata": {
        "colab": {
          "base_uri": "https://localhost:8080/"
        },
        "id": "SQoKWAOW51YG",
        "outputId": "76111c72-8dbb-47aa-c56b-d6cd20850ba7"
      },
      "source": [
        "A=np.array([[25,0],[0,9]],dtype=float)\n",
        "print(A)"
      ],
      "execution_count": 4,
      "outputs": [
        {
          "output_type": "stream",
          "text": [
            "[[25.  0.]\n",
            " [ 0.  9.]]\n"
          ],
          "name": "stdout"
        }
      ]
    },
    {
      "cell_type": "code",
      "metadata": {
        "colab": {
          "base_uri": "https://localhost:8080/"
        },
        "id": "AKpjSHGe5Sih",
        "outputId": "5756d596-1693-4e4e-a558-a30585325828"
      },
      "source": [
        "measurements = [1, 2, 3, 4, 5,6,7,8,9,10]\n",
        "Q_std =5 # Experiment\n",
        "R_std =10 # Experiment\n",
        "\n",
        "dt = 1.\n",
        "\n",
        "kf = OneDimensionKF(R_std, Q_std, dt)\n",
        "for z in measurements:\n",
        "    kf.predict()\n",
        "    print(\"Predict...\")\n",
        "    print(kf.x)\n",
        "    #print(kf.P)\n",
        "    print(\"Measured: \",z)\n",
        "    print(\"Update...\")\n",
        "    kf.update(z)\n",
        "    print(kf.x)\n",
        "    #print(kf.P)\n"
      ],
      "execution_count": 10,
      "outputs": [
        {
          "output_type": "stream",
          "text": [
            "Predict...\n",
            "[0. 0.]\n",
            "Measured:  1\n",
            "Update...\n",
            "[0.90960452 0.46327684]\n",
            "Predict...\n",
            "[1.37288136 0.46327684]\n",
            "Measured:  2\n",
            "Update...\n",
            "[1.89139607 0.83947899]\n",
            "Predict...\n",
            "[2.73087507 0.83947899]\n",
            "Measured:  3\n",
            "Update...\n",
            "[2.93494367 0.95479705]\n",
            "Predict...\n",
            "[3.88974071 0.95479705]\n",
            "Measured:  4\n",
            "Update...\n",
            "[3.96571443 0.99222487]\n",
            "Predict...\n",
            "[4.9579393  0.99222487]\n",
            "Measured:  5\n",
            "Update...\n",
            "[4.98523173 1.00525117]\n",
            "Predict...\n",
            "[5.9904829  1.00525117]\n",
            "Measured:  6\n",
            "Update...\n",
            "[5.99650775 1.00814668]\n",
            "Predict...\n",
            "[7.00465443 1.00814668]\n",
            "Measured:  7\n",
            "Update...\n",
            "[7.00172629 1.00672869]\n",
            "Predict...\n",
            "[8.00845497 1.00672869]\n",
            "Measured:  8\n",
            "Update...\n",
            "[8.0031398 1.0041491]\n",
            "Predict...\n",
            "[9.00728891 1.0041491 ]\n",
            "Measured:  9\n",
            "Update...\n",
            "[9.00270701 1.00192568]\n",
            "Predict...\n",
            "[10.00463269  1.00192568]\n",
            "Measured:  10\n",
            "Update...\n",
            "[10.00172097  1.00051318]\n"
          ],
          "name": "stdout"
        }
      ]
    },
    {
      "cell_type": "code",
      "metadata": {
        "id": "FO6mmovf7zaA",
        "colab": {
          "base_uri": "https://localhost:8080/"
        },
        "outputId": "a4785ac7-e1e7-4d29-bf74-d8c1cf5b3ad3"
      },
      "source": [
        "def TwoDimensionsKF(R_std, Q_std, dt):\n",
        "    \"\"\" Create first order Kalman filter. \n",
        "    Specify R and Q as floats.\"\"\"\n",
        "    kf = KalmanFilter(dim_x=4, dim_z=2)\n",
        "    kf.x = np.zeros(4)\n",
        "    kf.P = np.eye(4)*500\n",
        "    kf.R = np.eye(2)*R_std**2\n",
        "    q = Q_discrete_white_noise(dim=2,dt=dt,var=Q_std**2)\n",
        "    kf.Q = block_diag(q, q)\n",
        "    kf.F = np.array([[1,dt,0,0],\n",
        "                     [0,1,0,0],\n",
        "                     [0,0,1,dt],\n",
        "                     [0,0,0,1]])\n",
        "    kf.H = np.array([[1,0,0,0],\n",
        "                    [0,0,1,0]])\n",
        "    return kf\n",
        "\n",
        "measurements = [(1,1), (2,2), (3,3), (4,4), (5,5)]\n",
        "Q_std = 0.01\n",
        "R_std = 5\n",
        "dt = 1.\n",
        "\n",
        "kf = TwoDimensionsKF(R_std, Q_std, dt)\n",
        "\n",
        "for z in measurements:\n",
        "    kf.predict()\n",
        "    print(\"Predict...\")\n",
        "    print(kf.x)\n",
        "    #print(kf.P)\n",
        "    print(\"Measured: \",z)\n",
        "    print(\"Update...\")\n",
        "    kf.update(z)\n",
        "    print(kf.x)\n",
        "    #print(kf.P)"
      ],
      "execution_count": 7,
      "outputs": [
        {
          "output_type": "stream",
          "text": [
            "Predict...\n",
            "[0. 0. 0. 0.]\n",
            "Measured:  (1, 1)\n",
            "Update...\n",
            "[0.97560976 0.48780491 0.97560976 0.48780491]\n",
            "Predict...\n",
            "[1.46341467 0.48780491 1.46341467 0.48780491]\n",
            "Measured:  (2, 2)\n",
            "Update...\n",
            "[1.95933458 0.92421449 1.95933458 0.92421449]\n",
            "Predict...\n",
            "[2.88354907 0.92421449 2.88354907 0.92421449]\n",
            "Measured:  (3, 3)\n",
            "Update...\n",
            "[2.97701572 0.97774543 2.97701572 0.97774543]\n",
            "Predict...\n",
            "[3.95476115 0.97774543 3.95476115 0.97774543]\n",
            "Measured:  (4, 4)\n",
            "Update...\n",
            "[3.98571599 0.99066939 3.98571599 0.99066939]\n",
            "Predict...\n",
            "[4.97638538 0.99066939 4.97638538 0.99066939]\n",
            "Measured:  (5, 5)\n",
            "Update...\n",
            "[4.99033074 0.99523621 4.99033074 0.99523621]\n"
          ],
          "name": "stdout"
        }
      ]
    },
    {
      "cell_type": "code",
      "metadata": {
        "id": "CP1PJoGN78yD"
      },
      "source": [
        "from numpy import eye, zeros, isscalar, dot\n",
        "import numpy as np\n",
        "from filterpy.common import pretty_str, reshape_z\n",
        "from copy import deepcopy\n",
        "\n",
        "class CustomKalmanFilter():\n",
        "    def __init__(self,dim_x, dim_z, dim_u=0):\n",
        "        self.dim_x = dim_x\n",
        "        self.dim_z = dim_z\n",
        "        self.dim_u = dim_u\n",
        "\n",
        "        self.x =\n",
        "        self.P = \n",
        "        self.Q = \n",
        "        self.B = None                     # control transition matrix\n",
        "        self.F = \n",
        "        self.H = \n",
        "        self.R = \n",
        "        self.M = \n",
        "        self.z = \n",
        "\n",
        "        # gain and residual are computed during the innovation step. We\n",
        "        # save them so that in case you want to inspect them for various\n",
        "        # purposes\n",
        "        self.K = \n",
        "        self.y = \n",
        "        self.S = \n",
        "        self.SI = \n",
        "\n",
        "        # identity matrix. Do not alter this.\n",
        "        self._I = \n",
        "\n",
        "        # these will always be a copy of x,P after predict() is called\n",
        "        self.x_prior = self.x.copy()\n",
        "        self.P_prior = self.P.copy()\n",
        "\n",
        "        # these will always be a copy of x,P after update() is called\n",
        "        self.x_post = self.x.copy()\n",
        "        self.P_post = self.P.copy()\n",
        "\n",
        "        self.inv = \n",
        "\n",
        "    def predict(self, u=None, B=None, F=None, Q=None):\n",
        "        pass\n",
        "\n",
        "    def update(self, z, R=None, H=None):\n",
        "            pass"
      ],
      "execution_count": null,
      "outputs": []
    },
    {
      "cell_type": "code",
      "metadata": {
        "id": "A-KACtl78P6K"
      },
      "source": [
        "kf = CustomKalmanFilter(4,2)\n",
        "kf.x = np.array([[0, 0, 0, 0]]).T\n",
        "kf.P = np.eye(4) * 500.\n",
        "dt = 1.0\n",
        "kf.F = np.array([[1, dt, 0,  0],\n",
        "                [0,  1, 0,  0],\n",
        "                [0,  0, 1, dt],\n",
        "                [0,  0, 0,  1]])\n",
        "\n",
        "kf.H = np.array([[1, 0, 0, 0],\n",
        "                    [0, 0, 1, 0]])\n",
        "\n",
        "from scipy.linalg import block_diag\n",
        "from filterpy.common import Q_discrete_white_noise\n",
        "\n",
        "q = Q_discrete_white_noise(dim=2, dt=dt, var=0.001)\n",
        "kf.Q = block_diag(q, q)\n",
        "kf.R = np.array([[5., 0],\n",
        "                      [0, 5]])\n",
        "\n",
        "zs = [[1, 1], [2,2], [3,3], [4,4]]\n",
        "for z in zs:\n",
        "    kf.predict(F=kf.F, Q=kf.Q)\n",
        "    print(\"Prediction...\")\n",
        "    print(\"Predicted X\")\n",
        "    print(kf.x_prior)\n",
        "    print(\"Predicted P\")\n",
        "    print(kf.P_prior)\n",
        "    kf.update(z, R= kf.R, H = kf.H)\n",
        "    print(\"Measurement... z = \")\n",
        "    print(z)\n",
        "    print(\"Updated X\")\n",
        "    print(kf.x_post)\n",
        "    print(\"Updated P\")\n",
        "    print(kf.P_post)"
      ],
      "execution_count": null,
      "outputs": []
    },
    {
      "cell_type": "code",
      "metadata": {
        "id": "szt1hrb08b0P"
      },
      "source": [
        "def SecondOrderKF(R_std, Q_std, dt, P=100):\n",
        "    \"\"\" Create second order Kalman filter. \n",
        "    Specify R and Q as floats.\"\"\"\n",
        "    \n",
        "    kf = KalmanFilter(dim_x=, dim_z=)\n",
        "    kf.x = \n",
        "    kf.P = \n",
        "    kf.R = \n",
        "    kf.Q = \n",
        "    kf.F = \n",
        "    kf.H = \n",
        "    return kf\n",
        "\n",
        "measurements = [1, 2, 3, 4, 5]\n",
        "Q_std = \n",
        "R_std = \n",
        "dt = 1.\n",
        "\n",
        "kf = SecondOrderKF(R_std, Q_std, dt)\n",
        "for z in measurements:\n",
        "    kf.predict()\n",
        "    print(\"Predict...\")\n",
        "    print(kf.x)\n",
        "    #print(kf.P)\n",
        "    print(\"Measured: \",z)\n",
        "    print(\"Update...\")\n",
        "    kf.update(z)\n",
        "    print(kf.x)\n",
        "    #print(kf.P)"
      ],
      "execution_count": null,
      "outputs": []
    },
    {
      "cell_type": "code",
      "metadata": {
        "id": "o3iPggxi8jCn"
      },
      "source": [
        "def SecondOrderKF(R_std, Q_std, dt, P=100):\n",
        "    \"\"\" Create second order Kalman filter. \n",
        "    Specify R and Q as floats.\"\"\"\n",
        "    \n",
        "    kf = KalmanFilter(dim_x=, dim_z=)\n",
        "    kf.x = \n",
        "    kf.P = \n",
        "    kf.R = \n",
        "    kf.Q = Q_discrete_white_noise()\n",
        "    kf.F = # The only big problem will be here, you must write the equations by hand to make sure you didn't do any mistake\n",
        "    kf.H = \n",
        "    return kf\n",
        "\n",
        "measurements = [(1,1), (2,2), (3,3), (4,4), (5,5)]\n",
        "Q_std = 0.01\n",
        "R_std = 5\n",
        "dt = 1.\n",
        "\n",
        "kf = SecondOrderKF(R_std, Q_std, dt)\n",
        "for z in measurements:\n",
        "    kf.predict()\n",
        "    print(\"Predict...\")\n",
        "    print(kf.x)\n",
        "    #print(kf.P)\n",
        "    print(\"Measured: \",z)\n",
        "    print(\"Update...\")\n",
        "    kf.update(z)\n",
        "    print(kf.x)\n",
        "    #print(kf.P)"
      ],
      "execution_count": null,
      "outputs": []
    }
  ]
}