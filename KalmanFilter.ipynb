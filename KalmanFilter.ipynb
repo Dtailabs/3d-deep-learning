{
  "nbformat": 4,
  "nbformat_minor": 0,
  "metadata": {
    "colab": {
      "name": "KalmanFilter.ipynb",
      "provenance": [],
      "collapsed_sections": [],
      "authorship_tag": "ABX9TyNzFPb50leMzrUYe/2K1LqH",
      "include_colab_link": true
    },
    "kernelspec": {
      "name": "python3",
      "display_name": "Python 3"
    },
    "language_info": {
      "name": "python"
    }
  },
  "cells": [
    {
      "cell_type": "markdown",
      "metadata": {
        "id": "view-in-github",
        "colab_type": "text"
      },
      "source": [
        "<a href=\"https://colab.research.google.com/github/Mayakshanesht/3d-deep-learning/blob/main/KalmanFilter.ipynb\" target=\"_parent\"><img src=\"https://colab.research.google.com/assets/colab-badge.svg\" alt=\"Open In Colab\"/></a>"
      ]
    },
    {
      "cell_type": "code",
      "metadata": {
        "colab": {
          "base_uri": "https://localhost:8080/"
        },
        "id": "tpM42LeB4dVk",
        "outputId": "ca38fa54-63a4-4775-8ae0-4a361b08f1e6"
      },
      "source": [
        "!pip install filterpy"
      ],
      "execution_count": 1,
      "outputs": [
        {
          "output_type": "stream",
          "text": [
            "Collecting filterpy\n",
            "\u001b[?25l  Downloading https://files.pythonhosted.org/packages/f6/1d/ac8914360460fafa1990890259b7fa5ef7ba4cd59014e782e4ab3ab144d8/filterpy-1.4.5.zip (177kB)\n",
            "\r\u001b[K     |█▉                              | 10kB 16.9MB/s eta 0:00:01\r\u001b[K     |███▊                            | 20kB 22.3MB/s eta 0:00:01\r\u001b[K     |█████▌                          | 30kB 10.7MB/s eta 0:00:01\r\u001b[K     |███████▍                        | 40kB 8.3MB/s eta 0:00:01\r\u001b[K     |█████████▏                      | 51kB 5.2MB/s eta 0:00:01\r\u001b[K     |███████████                     | 61kB 5.3MB/s eta 0:00:01\r\u001b[K     |████████████▉                   | 71kB 6.0MB/s eta 0:00:01\r\u001b[K     |██████████████▊                 | 81kB 6.4MB/s eta 0:00:01\r\u001b[K     |████████████████▋               | 92kB 6.0MB/s eta 0:00:01\r\u001b[K     |██████████████████▍             | 102kB 6.3MB/s eta 0:00:01\r\u001b[K     |████████████████████▎           | 112kB 6.3MB/s eta 0:00:01\r\u001b[K     |██████████████████████          | 122kB 6.3MB/s eta 0:00:01\r\u001b[K     |████████████████████████        | 133kB 6.3MB/s eta 0:00:01\r\u001b[K     |█████████████████████████▊      | 143kB 6.3MB/s eta 0:00:01\r\u001b[K     |███████████████████████████▋    | 153kB 6.3MB/s eta 0:00:01\r\u001b[K     |█████████████████████████████▌  | 163kB 6.3MB/s eta 0:00:01\r\u001b[K     |███████████████████████████████▎| 174kB 6.3MB/s eta 0:00:01\r\u001b[K     |████████████████████████████████| 184kB 6.3MB/s \n",
            "\u001b[?25hRequirement already satisfied: numpy in /usr/local/lib/python3.7/dist-packages (from filterpy) (1.19.5)\n",
            "Requirement already satisfied: scipy in /usr/local/lib/python3.7/dist-packages (from filterpy) (1.4.1)\n",
            "Requirement already satisfied: matplotlib in /usr/local/lib/python3.7/dist-packages (from filterpy) (3.2.2)\n",
            "Requirement already satisfied: pyparsing!=2.0.4,!=2.1.2,!=2.1.6,>=2.0.1 in /usr/local/lib/python3.7/dist-packages (from matplotlib->filterpy) (2.4.7)\n",
            "Requirement already satisfied: python-dateutil>=2.1 in /usr/local/lib/python3.7/dist-packages (from matplotlib->filterpy) (2.8.1)\n",
            "Requirement already satisfied: kiwisolver>=1.0.1 in /usr/local/lib/python3.7/dist-packages (from matplotlib->filterpy) (1.3.1)\n",
            "Requirement already satisfied: cycler>=0.10 in /usr/local/lib/python3.7/dist-packages (from matplotlib->filterpy) (0.10.0)\n",
            "Requirement already satisfied: six>=1.5 in /usr/local/lib/python3.7/dist-packages (from python-dateutil>=2.1->matplotlib->filterpy) (1.15.0)\n",
            "Building wheels for collected packages: filterpy\n",
            "  Building wheel for filterpy (setup.py) ... \u001b[?25l\u001b[?25hdone\n",
            "  Created wheel for filterpy: filename=filterpy-1.4.5-cp37-none-any.whl size=110476 sha256=96340a515bf9f4cb43c14b052c6147cedb31272139527a7ee9762f35a7a2fdae\n",
            "  Stored in directory: /root/.cache/pip/wheels/c3/0c/dd/e92392c3f38a41371602d99fc77d6c1d42aadbf0c6afccdd02\n",
            "Successfully built filterpy\n",
            "Installing collected packages: filterpy\n",
            "Successfully installed filterpy-1.4.5\n"
          ],
          "name": "stdout"
        }
      ]
    },
    {
      "cell_type": "code",
      "metadata": {
        "id": "5gdRtewZ4tyO"
      },
      "source": [
        "from filterpy.kalman import KalmanFilter\n",
        "from scipy.linalg import block_diag\n",
        "from filterpy.common import Q_discrete_white_noise\n",
        "import numpy as np"
      ],
      "execution_count": 2,
      "outputs": []
    },
    {
      "cell_type": "code",
      "metadata": {
        "id": "Hbo4qLTN4-y3"
      },
      "source": [
        "def OneDimensionKF(R_std, Q_std, dt):\n",
        "    \"\"\" Create first order 2D Kalman filter.\"\"\"\n",
        "    kf = KalmanFilter(dim_x=2, dim_z=1)\n",
        "    kf.x = np.zeros(2)\n",
        "    kf.P = np.eye(2)*500\n",
        "    kf.R = np.eye(1)*R_std**2\n",
        "    kf.Q = Q_discrete_white_noise(dim=2,dt=dt,var=Q_std**2)\n",
        "    kf.F = np.array([[1.,dt],[0.,1.]])\n",
        "    kf.H = np.array([[1.,0.]])\n",
        "    return kf"
      ],
      "execution_count": 3,
      "outputs": []
    },
    {
      "cell_type": "code",
      "metadata": {
        "colab": {
          "base_uri": "https://localhost:8080/"
        },
        "id": "SQoKWAOW51YG",
        "outputId": "47d5301f-4a86-4b5f-988e-333bbb71a197"
      },
      "source": [
        "A=np.array([[25,0],[0,9]],dtype=float)\n",
        "print(A)"
      ],
      "execution_count": 4,
      "outputs": [
        {
          "output_type": "stream",
          "text": [
            "[[25.  0.]\n",
            " [ 0.  9.]]\n"
          ],
          "name": "stdout"
        }
      ]
    },
    {
      "cell_type": "code",
      "metadata": {
        "colab": {
          "base_uri": "https://localhost:8080/"
        },
        "id": "AKpjSHGe5Sih",
        "outputId": "7aed2746-febf-4bc5-ebf0-8cb4e7e925bb"
      },
      "source": [
        "measurements = [1, 2, 3, 4, 5,6,7,8,9,10]\n",
        "Q_std =5 # Experiment\n",
        "R_std =10 # Experiment\n",
        "\n",
        "dt = 1.\n",
        "\n",
        "kf = OneDimensionKF(R_std, Q_std, dt)\n",
        "for z in measurements:\n",
        "    kf.predict()\n",
        "    print(\"Predict...\")\n",
        "    print(kf.x)\n",
        "    #print(kf.P)\n",
        "    print(\"Measured: \",z)\n",
        "    print(\"Update...\")\n",
        "    kf.update(z)\n",
        "    print(kf.x)\n",
        "    #print(kf.P)\n"
      ],
      "execution_count": 5,
      "outputs": [
        {
          "output_type": "stream",
          "text": [
            "Predict...\n",
            "[0. 0.]\n",
            "Measured:  1\n",
            "Update...\n",
            "[0.90960452 0.46327684]\n",
            "Predict...\n",
            "[1.37288136 0.46327684]\n",
            "Measured:  2\n",
            "Update...\n",
            "[1.89139607 0.83947899]\n",
            "Predict...\n",
            "[2.73087507 0.83947899]\n",
            "Measured:  3\n",
            "Update...\n",
            "[2.93494367 0.95479705]\n",
            "Predict...\n",
            "[3.88974071 0.95479705]\n",
            "Measured:  4\n",
            "Update...\n",
            "[3.96571443 0.99222487]\n",
            "Predict...\n",
            "[4.9579393  0.99222487]\n",
            "Measured:  5\n",
            "Update...\n",
            "[4.98523173 1.00525117]\n",
            "Predict...\n",
            "[5.9904829  1.00525117]\n",
            "Measured:  6\n",
            "Update...\n",
            "[5.99650775 1.00814668]\n",
            "Predict...\n",
            "[7.00465443 1.00814668]\n",
            "Measured:  7\n",
            "Update...\n",
            "[7.00172629 1.00672869]\n",
            "Predict...\n",
            "[8.00845497 1.00672869]\n",
            "Measured:  8\n",
            "Update...\n",
            "[8.0031398 1.0041491]\n",
            "Predict...\n",
            "[9.00728891 1.0041491 ]\n",
            "Measured:  9\n",
            "Update...\n",
            "[9.00270701 1.00192568]\n",
            "Predict...\n",
            "[10.00463269  1.00192568]\n",
            "Measured:  10\n",
            "Update...\n",
            "[10.00172097  1.00051318]\n"
          ],
          "name": "stdout"
        }
      ]
    },
    {
      "cell_type": "code",
      "metadata": {
        "id": "FO6mmovf7zaA",
        "colab": {
          "base_uri": "https://localhost:8080/"
        },
        "outputId": "d7c6432c-a71d-4f29-d54d-0e0baa24bd80"
      },
      "source": [
        "def TwoDimensionsKF(R_std, Q_std, dt):\n",
        "    \"\"\" Create first order Kalman filter. \n",
        "    Specify R and Q as floats.\"\"\"\n",
        "    kf = KalmanFilter(dim_x=4, dim_z=2)\n",
        "    kf.x = np.zeros(4)\n",
        "    kf.P = np.eye(4)*500\n",
        "    kf.R = np.eye(2)*R_std**2\n",
        "    q = Q_discrete_white_noise(dim=2,dt=dt,var=Q_std**2)\n",
        "    kf.Q = block_diag(q, q)\n",
        "    kf.F = np.array([[1,dt,0,0],\n",
        "                     [0,1,0,0],\n",
        "                     [0,0,1,dt],\n",
        "                     [0,0,0,1]])\n",
        "    kf.H = np.array([[1,0,0,0],\n",
        "                    [0,0,1,0]])\n",
        "    return kf\n",
        "\n",
        "measurements = [(1,1), (2,2), (3,3), (4,4), (5,5)]\n",
        "Q_std = 0.01\n",
        "R_std = 5\n",
        "dt = 1.\n",
        "\n",
        "kf = TwoDimensionsKF(R_std, Q_std, dt)\n",
        "\n",
        "for z in measurements:\n",
        "    kf.predict()\n",
        "    print(\"Predict...\")\n",
        "    print(kf.x)\n",
        "    #print(kf.P)\n",
        "    print(\"Measured: \",z)\n",
        "    print(\"Update...\")\n",
        "    kf.update(z)\n",
        "    print(kf.x)\n",
        "    #print(kf.P)"
      ],
      "execution_count": 6,
      "outputs": [
        {
          "output_type": "stream",
          "text": [
            "Predict...\n",
            "[0. 0. 0. 0.]\n",
            "Measured:  (1, 1)\n",
            "Update...\n",
            "[0.97560976 0.48780491 0.97560976 0.48780491]\n",
            "Predict...\n",
            "[1.46341467 0.48780491 1.46341467 0.48780491]\n",
            "Measured:  (2, 2)\n",
            "Update...\n",
            "[1.95933458 0.92421449 1.95933458 0.92421449]\n",
            "Predict...\n",
            "[2.88354907 0.92421449 2.88354907 0.92421449]\n",
            "Measured:  (3, 3)\n",
            "Update...\n",
            "[2.97701572 0.97774543 2.97701572 0.97774543]\n",
            "Predict...\n",
            "[3.95476115 0.97774543 3.95476115 0.97774543]\n",
            "Measured:  (4, 4)\n",
            "Update...\n",
            "[3.98571599 0.99066939 3.98571599 0.99066939]\n",
            "Predict...\n",
            "[4.97638538 0.99066939 4.97638538 0.99066939]\n",
            "Measured:  (5, 5)\n",
            "Update...\n",
            "[4.99033074 0.99523621 4.99033074 0.99523621]\n"
          ],
          "name": "stdout"
        }
      ]
    },
    {
      "cell_type": "code",
      "metadata": {
        "id": "YWDVSLZBzv-f"
      },
      "source": [
        "class CustomKalmanFilter():\n",
        "  def __init__(self,dim_x,dim_z,dim_u=0):\n",
        "    #dim_x=4\n",
        "    #dim_z =2\n",
        "    #dim_u = 0\n",
        "    self.x = np.zeros(dim_x)\n",
        "    self.P = np.eye(dim_x)*500\n",
        "    Q_std = 0.01\n",
        "    R_std = 5\n",
        "    dt = 1.\n",
        "    self.R = np.eye(dim_z)*R_std**2\n",
        "    q = Q_discrete_white_noise(dim=dim_x/2,dt=dt,var=Q_std**2)\n",
        "    self.Q = block_diag(q, q)\n",
        "    self.F = np.array([[1,dt,0,0],\n",
        "                     [0,1,0,0],\n",
        "                     [0,0,1,dt],\n",
        "                     [0,0,0,1]])\n",
        "    self.H = np.array([[1,0,0,0],\n",
        "                    [0,0,1,0]])\n",
        "    self.y=np.zeros(dim_z)\n",
        "    self.S=np.array([[0.,0.],[0.,0.]])\n",
        "    self.K=np.zeros((dim_x,dim_z))\n",
        "  \n",
        "  def predict(self):\n",
        "    self.x=np.dot(self.F,self.x)\n",
        "    self.P=np.dot(np.dot(self.F,self.P),self.F.T)+self.Q\n",
        "\n",
        "  def update(self,z):\n",
        "    self.y=z-np.dot(self.H,self.x)\n",
        "    self.S=np.dot(np.dot(self.H,self.P),self.H.T)+self.R\n",
        "    self.K=np.dot(np.dot(self.P,self.H.T),np.linalg.inv(self.S))\n",
        "    self.x+=np.dot(self.K,self.y)\n",
        "    self.P=np.dot((np.eye(4)-np.dot(self.K,self.H)),self.P)"
      ],
      "execution_count": 19,
      "outputs": []
    },
    {
      "cell_type": "code",
      "metadata": {
        "colab": {
          "base_uri": "https://localhost:8080/"
        },
        "id": "YGiDl2Uz3Lwa",
        "outputId": "676a0676-be50-4a15-fc72-3c6ef7205d8e"
      },
      "source": [
        "measurements = [(1,1), (2,2), (3,3), (4,4), (5,5),(7,7),(8,8),(9,9)]\n",
        "\n",
        "\n",
        "kf = CustomKalmanFilter(4,2,0)\n",
        "\n",
        "for z in measurements:\n",
        "    kf.predict()\n",
        "    print(\"Predict...\")\n",
        "    print(kf.x)\n",
        "    #print(kf.P)\n",
        "    print(\"Measured: \",z)\n",
        "    print(\"Update...\")\n",
        "    kf.update(z)\n",
        "    print(kf.x)\n",
        "    #print(kf.P)"
      ],
      "execution_count": 21,
      "outputs": [
        {
          "output_type": "stream",
          "text": [
            "Predict...\n",
            "[0. 0. 0. 0.]\n",
            "Measured:  (1, 1)\n",
            "Update...\n",
            "[0.97560976 0.48780491 0.97560976 0.48780491]\n",
            "Predict...\n",
            "[1.46341467 0.48780491 1.46341467 0.48780491]\n",
            "Measured:  (2, 2)\n",
            "Update...\n",
            "[1.95933458 0.92421449 1.95933458 0.92421449]\n",
            "Predict...\n",
            "[2.88354907 0.92421449 2.88354907 0.92421449]\n",
            "Measured:  (3, 3)\n",
            "Update...\n",
            "[2.97701572 0.97774543 2.97701572 0.97774543]\n",
            "Predict...\n",
            "[3.95476115 0.97774543 3.95476115 0.97774543]\n",
            "Measured:  (4, 4)\n",
            "Update...\n",
            "[3.98571599 0.99066939 3.98571599 0.99066939]\n",
            "Predict...\n",
            "[4.97638538 0.99066939 4.97638538 0.99066939]\n",
            "Measured:  (5, 5)\n",
            "Update...\n",
            "[4.99033074 0.99523621 4.99033074 0.99523621]\n",
            "Predict...\n",
            "[5.98556695 0.99523621 5.98556695 0.99523621]\n",
            "Measured:  (7, 7)\n",
            "Update...\n",
            "[6.51055135 1.1365281  6.51055135 1.1365281 ]\n",
            "Predict...\n",
            "[7.64707945 1.1365281  7.64707945 1.1365281 ]\n",
            "Measured:  (8, 8)\n",
            "Update...\n",
            "[7.8093517  1.17358337 7.8093517  1.17358337]\n",
            "Predict...\n",
            "[8.98293507 1.17358337 8.98293507 1.17358337]\n",
            "Measured:  (9, 9)\n",
            "Update...\n",
            "[8.98998813 1.17498178 8.98998813 1.17498178]\n"
          ],
          "name": "stdout"
        }
      ]
    },
    {
      "cell_type": "code",
      "metadata": {
        "id": "-dd_2i4Q7JCS"
      },
      "source": [
        "class SecondOrderKF():\n",
        "  def __init__(self,dim_x,dim_z,dim_u=0):\n",
        "    #dim_x=4\n",
        "    #dim_z =2\n",
        "    #dim_u = 0\n",
        "    self.x = np.zeros(dim_x)\n",
        "    self.P = np.eye(dim_x)*500\n",
        "    Q_std = 0.01\n",
        "    R_std = 5\n",
        "    dt = 1.\n",
        "    self.R = np.eye(dim_z)*R_std**2\n",
        "    self.Q = Q_discrete_white_noise(dim=dim_x,dt=dt,var=Q_std**2)\n",
        "    #self.Q = block_diag(q, q)\n",
        "    self.F = np.array([[1,dt,0.5*dt**2],\n",
        "                     [0,1,dt],\n",
        "                     [0,0,1]])\n",
        "    self.H = np.array([[1,0,0]])\n",
        "    self.y=np.zeros(dim_z)\n",
        "    self.S=np.array([[0.,0.],[0.,0.]])\n",
        "    self.K=np.zeros((dim_x,dim_z))\n",
        "  \n",
        "  def predict(self):\n",
        "    self.x=np.dot(self.F,self.x)\n",
        "    self.P=np.dot(np.dot(self.F,self.P),self.F.T)+self.Q\n",
        "\n",
        "  def update(self,z):\n",
        "    self.y=z-np.dot(self.H,self.x)\n",
        "    self.S=np.dot(np.dot(self.H,self.P),self.H.T)+self.R\n",
        "    self.K=np.dot(np.dot(self.P,self.H.T),np.linalg.inv(self.S))\n",
        "    self.x+=np.dot(self.K,self.y)\n",
        "    self.P=np.dot((np.eye(3)-np.dot(self.K,self.H)),self.P)"
      ],
      "execution_count": 27,
      "outputs": []
    },
    {
      "cell_type": "code",
      "metadata": {
        "colab": {
          "base_uri": "https://localhost:8080/"
        },
        "id": "Vx-idnHN71cn",
        "outputId": "9add25d3-8b7c-4c8b-f345-3311df3e6f75"
      },
      "source": [
        "measurements = [1, 2, 3, 4,6,8,10,12,14,17,20]\n",
        "\n",
        "kf = SecondOrderKF(3,1,0)\n",
        "for z in measurements:\n",
        "    kf.predict()\n",
        "    print(\"Predict...\")\n",
        "    print(kf.x)\n",
        "    print(kf.P)\n",
        "    print(\"Measured: \",z)\n",
        "    print(\"Update...\")\n",
        "    kf.update(z)\n",
        "    print(kf.x)\n",
        "    print(kf.P)"
      ],
      "execution_count": 29,
      "outputs": [
        {
          "output_type": "stream",
          "text": [
            "Predict...\n",
            "[0. 0. 0.]\n",
            "[[1125.000025  750.00005   250.00005 ]\n",
            " [ 750.00005  1000.0001    500.0001  ]\n",
            " [ 250.00005   500.0001    500.0001  ]]\n",
            "Measured:  1\n",
            "Update...\n",
            "[0.97826087 0.65217394 0.21739134]\n",
            "[[ 24.45652175  16.30434856   5.43478358]\n",
            " [ 16.30434856 510.86961063 336.95658181]\n",
            " [  5.43478358 336.95658181 445.65225336]]\n",
            "Predict...\n",
            "[1.73913048 0.86956529 0.21739134]\n",
            "[[1021.73928322 1260.86979216  565.21754206]\n",
            " [1260.86979216 1630.4351276   782.60893516]\n",
            " [ 565.21754206  782.60893516  445.65235336]]\n",
            "Measured:  2\n",
            "Update...\n",
            "[1.99376947 1.18380064 0.35825548]\n",
            "[[ 24.40290767  30.1142274   13.49948242]\n",
            " [ 30.1142274  111.63034187 101.76535147]\n",
            " [ 13.49948242 101.76535147 140.44658247]]\n",
            "Predict...\n",
            "[3.35669786 1.54205612 0.35825548]\n",
            "[[346.63820885 378.11542013 185.48817512]\n",
            " [378.11542013 455.60772728 242.21203394]\n",
            " [185.48817512 242.21203394 140.44668247]]\n",
            "Measured:  3\n",
            "Update...\n",
            "[3.02399497 1.17914145 0.18022418]\n",
            "[[23.31825688 25.43572022 12.47773848]\n",
            " [25.43572022 70.90220579 53.49102088]\n",
            " [12.47773848 53.49102088 47.86776488]]\n",
            "Predict...\n",
            "[4.29324851 1.35936563 0.18022418]\n",
            "[[223.02762868 212.98612824  89.90269179]\n",
            " [212.98612824 225.75211242 101.35888575]\n",
            " [ 89.90269179 101.35888575  47.86786488]]\n",
            "Measured:  4\n",
            "Update...\n",
            "[4.02955805 1.10754746 0.07393025]\n",
            "[[22.48011944 21.46798417  9.06176182]\n",
            " [21.46798417 42.85679925 24.15770319]\n",
            " [ 9.06176182 24.15770319 15.28079369]]\n",
            "Predict...\n",
            "[5.17407063 1.18147771 0.07393025]\n",
            "[[145.31257546 117.26354687  40.85991185]\n",
            " [117.26354687 106.45309932  39.43859688]\n",
            " [ 40.85991185  39.43859688  15.28089369]]\n",
            "Measured:  6\n",
            "Update...\n",
            "[5.87876272 1.75014627 0.27208004]\n",
            "[[21.33027686 17.21299008  5.99778257]\n",
            " [17.21299008 25.71484857 11.30574659]\n",
            " [ 5.99778257 11.30574659  5.47813901]]\n",
            "Predict...\n",
            "[7.76494901 2.02222632 0.27208004]\n",
            "[[100.14419449  68.62336061  20.04264866]\n",
            " [ 68.62336061  53.80458076  16.7839856 ]\n",
            " [ 20.04264866  16.7839856    5.47823901]]\n",
            "Measured:  8\n",
            "Update...\n",
            "[7.95304397 2.15111754 0.30972497]\n",
            "[[20.00576113 13.70885819  4.003911  ]\n",
            " [13.70885819 16.17466401  5.79351247]\n",
            " [ 4.003911    5.79351247  2.26827976]]\n",
            "Predict...\n",
            "[10.259024    2.46084252  0.30972497]\n",
            "[[73.96265992 43.71189178 10.93161335]\n",
            " [43.71189178 30.03006871  8.06189223]\n",
            " [10.93161335  8.06189223  2.26837976]]\n",
            "Measured:  10\n",
            "Update...\n",
            "[10.06543478  2.3464314   0.28111267]\n",
            "[[18.68448665 11.04252144  2.76155   ]\n",
            " [11.04252144 10.72248861  3.23338923]\n",
            " [ 2.76155     3.23338923  1.06085188]]\n",
            "Predict...\n",
            "[12.55242251  2.62754406  0.28111267]\n",
            "[[57.75219536 29.90711985  6.52541518]\n",
            " [29.90711985 18.25021896  4.29434112]\n",
            " [ 6.52541518  4.29434112  1.06095188]]\n",
            "Measured:  12\n",
            "Update...\n",
            "[12.16689059  2.42789539  0.23755145]\n",
            "[[17.44733028  9.03514394  1.97137222]\n",
            " [ 9.03514394  7.44161366  1.9360185 ]\n",
            " [ 1.97137222  1.9360185   0.54639099]]\n",
            "Predict...\n",
            "[14.7135617   2.66544684  0.23755145]\n",
            "[[47.00324529 21.62540307  4.18063622]\n",
            " [21.62540307 11.86014165  2.48250949]\n",
            " [ 4.18063622  2.48250949  0.54649099]]\n",
            "Measured:  14\n",
            "Update...\n",
            "[14.24775331  2.45113623  0.19612079]\n",
            "[[16.31983569  7.50848208  1.45154437]\n",
            " [ 7.50848208  5.3651836   1.22690021]\n",
            " [ 1.45154437  1.22690021  0.30375583]]\n",
            "Predict...\n",
            "[16.79694993  2.64725702  0.19612079]\n",
            "[[39.45639198 16.31748827  2.8303725 ]\n",
            " [16.31748827  8.12283984  1.53075604]\n",
            " [ 2.8303725   1.53075604  0.30385583]]\n",
            "Measured:  17\n",
            "Update...\n",
            "[16.92124518  2.69866025  0.20503701]\n",
            "[[15.30352179  6.32888678  1.09778581]\n",
            " [ 6.32888678  3.99197841  0.81423176]\n",
            " [ 1.09778581  0.81423176  0.17957012]]\n",
            "Predict...\n",
            "[19.72242394  2.90369726  0.20503701]\n",
            "[[33.91020886 12.72983369  2.00185263]\n",
            " [12.72983369  5.80011205  0.99390188]\n",
            " [ 2.00185263  0.99390188  0.17967012]]\n",
            "Measured:  20\n",
            "Update...\n",
            "[19.88220375  2.96367833  0.21446944]\n",
            "[[14.39063344  5.40221888  0.84953553]\n",
            " [ 5.40221888  3.04933813  0.56132404]\n",
            " [ 0.84953553  0.56132404  0.11164432]]\n"
          ],
          "name": "stdout"
        }
      ]
    },
    {
      "cell_type": "code",
      "metadata": {
        "id": "XNR_Rb169Rwk"
      },
      "source": [
        ""
      ],
      "execution_count": null,
      "outputs": []
    }
  ]
}